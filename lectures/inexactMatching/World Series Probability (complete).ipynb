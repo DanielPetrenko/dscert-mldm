{
 "metadata": {
  "name": "",
  "signature": "sha256:119575cada989b8ff3b2d6262041490ed73f06e48752f4a22ab09726ffa3b456"
 },
 "nbformat": 3,
 "nbformat_minor": 0,
 "worksheets": [
  {
   "cells": [
    {
     "cell_type": "markdown",
     "metadata": {},
     "source": [
      "##World Series Odds Problem\n",
      "\n",
      "$p$: probability that team A wins a game between team and B\n",
      "$q=(1-p)$: probability that team B wins\n",
      "\n",
      "Suppose A and B play a series until one wins $n$ games.\n",
      "\n",
      "Denote $P(i,j)$ as the probability that A wins the series when:\n",
      "  A needs to win $i$ more games\n",
      "  B needs to win $j$ more games\n",
      "  \n",
      "**Question**: What's the probability that team A wins a best-of-seven series?"
     ]
    },
    {
     "cell_type": "markdown",
     "metadata": {},
     "source": [
      "**Answer**: P(4,4)"
     ]
    },
    {
     "cell_type": "markdown",
     "metadata": {},
     "source": [
      "Let's solve this problem recursively!\n",
      "\n",
      "**Question**: What's the probability that A wins the series when B needs 0 more games to win? $P(i,0)=0$\n",
      "\n",
      "**Question**: What's the probability that A wins the series when A needs 0 more games to win? $P(0,j)=1$\n",
      "\n",
      "**Question**: What's the probability that A wins the series when both teams need to win one more game? $P(1,1)=p$\n",
      "\n",
      "**Question**: What's the probability that A wins the series when A needs $i$ more wins and B needs $j$ more wins?\n",
      "\n",
      "P(A wins the next game) $\\times$ P(A wins the series needing $i-1$ more wins, and B needing $j$ more wins) +\n",
      "P(B wins the next game) $\\times$ P(A wins the series needing $i$ more wins, and B needing $j-1$ more wins)"
     ]
    },
    {
     "cell_type": "code",
     "collapsed": false,
     "input": [
      "import numpy as np\n",
      "\n",
      "def worldseriesodds(n, awins):\n",
      "    bwins = 1. - awins\n",
      "    p = 8 * np.zeros((n+1,n+1))\n",
      "    for i in xrange(n+1):\n",
      "        p[i,0] = 0.0\n",
      "    for j in xrange(n+1):\n",
      "        p[0,j] = 1.0\n",
      "    for i in xrange(1,n+1):\n",
      "        for j in xrange(1, n+1):\n",
      "            p[i,j] = awins * p[i-1,j] + bwins * p[i,j-1]\n",
      "    return p[n,n]\n",
      "    "
     ],
     "language": "python",
     "metadata": {},
     "outputs": [],
     "prompt_number": 6
    },
    {
     "cell_type": "code",
     "collapsed": false,
     "input": [
      "print worldseriesodds(4, .8)"
     ],
     "language": "python",
     "metadata": {},
     "outputs": [
      {
       "output_type": "stream",
       "stream": "stdout",
       "text": [
        "0.966656\n"
       ]
      }
     ],
     "prompt_number": 7
    },
    {
     "cell_type": "code",
     "collapsed": false,
     "input": [
      "print worldseriesodds(4, .2)"
     ],
     "language": "python",
     "metadata": {},
     "outputs": [
      {
       "output_type": "stream",
       "stream": "stdout",
       "text": [
        "0.033344\n"
       ]
      }
     ],
     "prompt_number": 8
    },
    {
     "cell_type": "code",
     "collapsed": false,
     "input": [
      "print worldseriesodds(10, .1)"
     ],
     "language": "python",
     "metadata": {},
     "outputs": [
      {
       "output_type": "stream",
       "stream": "stdout",
       "text": [
        "3.92988232713e-06\n"
       ]
      }
     ],
     "prompt_number": 9
    }
   ],
   "metadata": {}
  }
 ]
}