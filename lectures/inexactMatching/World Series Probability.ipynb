{
 "metadata": {
  "name": "",
  "signature": "sha256:095793daaf4339590bba11e5e5e1e01a15bfd97408fad32dfb281c1045f42b3f"
 },
 "nbformat": 3,
 "nbformat_minor": 0,
 "worksheets": [
  {
   "cells": [
    {
     "cell_type": "markdown",
     "metadata": {},
     "source": [
      "##World Series Odds Problem\n",
      "\n",
      "$p$: probability that team A wins a game between team and B\n",
      "$q=(1-p)$: probability that team B wins\n",
      "\n",
      "Suppose A and B play a series until one wins $n$ games.\n",
      "\n",
      "Denote $P(i,j)$ as the probability that A wins the series when:\n",
      "  A needs to win $i$ more games\n",
      "  B needs to win $j$ more games\n",
      "  \n",
      "**Question**: What's the probability that team A wins a best-of-seven series?"
     ]
    },
    {
     "cell_type": "markdown",
     "metadata": {},
     "source": [
      "**Answer**: "
     ]
    },
    {
     "cell_type": "markdown",
     "metadata": {},
     "source": [
      "Let's solve this problem recursively!\n",
      "\n",
      "**Question**: What's the probability that A wins the series when B needs 0 more games to win? \n",
      "\n",
      "**Question**: What's the probability that A wins the series when A needs 0 more games to win? \n",
      "\n",
      "**Question**: What's the probability that A wins the series when both teams need to win one more game? \n",
      "\n",
      "**Question**: What's the probability that A wins the series when A needs $i$ more wins and B needs $j$ more wins?\n",
      "\n"
     ]
    },
    {
     "cell_type": "code",
     "collapsed": false,
     "input": [
      "import numpy as np\n",
      "\n",
      "def worldseriesodds(n, awins):\n",
      "    bwins = 1. - awins\n",
      "    # allocate matrix\n",
      "    \n",
      "    # initialize\n",
      "    for i in xrange(n+1):\n",
      "        \n",
      "    for j in xrange(n+1):\n",
      "        \n",
      "    # do recursive computation\n",
      "    for i in xrange(1,n+1):\n",
      "        for j in xrange(1, n+1):\n",
      "            \n",
      "    # return answer\n",
      "    return p[n,n]\n",
      "    "
     ],
     "language": "python",
     "metadata": {},
     "outputs": [],
     "prompt_number": 6
    }
   ],
   "metadata": {}
  }
 ]
}