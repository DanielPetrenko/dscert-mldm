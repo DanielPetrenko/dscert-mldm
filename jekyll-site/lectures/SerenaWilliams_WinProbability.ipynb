{
 "cells": [
  {
   "cell_type": "markdown",
   "metadata": {},
   "source": [
    "## Serena Williams Win Probability\n",
    "\n",
    "![Serena Williams](https://espnfivethirtyeight.files.wordpress.com/2015/09/serena0907-1.jpg?quality=100&strip=all&w=360)\n",
    "\n",
    "Could Serena Williams be a *more* dominant player if she played best-out-of-five-sets instead of best-out-of-three?\n",
    "\n",
    "[Five-thirty-eight thinks so](http://fivethirtyeight.com/datalab/serena-williams-grand-slam-us-open-best-of-five-sets/)\n",
    "\n",
    "How can we use dynamic programming to address this question?\n",
    "\n",
    "- $p$: probability that player A wins a set over player B  \n",
    "- $q=(1-p)$: probability that player B wins a set\n",
    "\n",
    "Suppose A and B play a game until one player wins $n$ sets.\n",
    "\n",
    "Denote $P(i,j)$ as the probability that A wins the game when:\n",
    "- A needs to win $i$ more sets, and\n",
    "- B needs to win $j$ more sets\n",
    "  \n",
    "**Question**: Using this notation, what's the probability that player A wins a best-out-of-five-sets game?"
   ]
  },
  {
   "cell_type": "markdown",
   "metadata": {},
   "source": [
    "**Answer**:"
   ]
  },
  {
   "cell_type": "markdown",
   "metadata": {},
   "source": [
    "Let's solve this problem recursively!\n",
    "\n",
    "**Question**: What's the probability that A wins the game when B needs 0 more sets to win?\n",
    "\n",
    "**Question**: What's the probability that A wins the game when A needs 0 more sets to win?\n",
    "\n",
    "**Question**: What's the probability that A wins the game when both players need to win one more set? \n",
    "\n",
    "**Question**: What's the probability that A wins the game when A needs $i$ more sets and B needs $j$ more sets? \n",
    "\n"
   ]
  },
  {
   "cell_type": "code",
   "execution_count": 2,
   "metadata": {
    "collapsed": false
   },
   "outputs": [],
   "source": [
    "import numpy as np\n",
    "\n",
    "# compute probability of winning a tennis game\n",
    "# from single set probability\n",
    "def tennis_probability(num_sets_to_win, prob_a_wins_set):\n",
    "    return None"
   ]
  }
 ],
 "metadata": {
  "kernelspec": {
   "display_name": "Python 2",
   "language": "python",
   "name": "python2"
  },
  "language_info": {
   "codemirror_mode": {
    "name": "ipython",
    "version": 2
   },
   "file_extension": ".py",
   "mimetype": "text/x-python",
   "name": "python",
   "nbconvert_exporter": "python",
   "pygments_lexer": "ipython2",
   "version": "2.7.8"
  }
 },
 "nbformat": 4,
 "nbformat_minor": 0
}
