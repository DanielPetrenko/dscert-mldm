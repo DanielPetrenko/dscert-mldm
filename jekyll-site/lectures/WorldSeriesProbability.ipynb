{
 "cells": [
  {
   "cell_type": "markdown",
   "metadata": {},
   "source": [
    "## World Series Odds Problem\n",
    "\n",
    "$p$: probability that team A wins a game between team and B\n",
    "$q=(1-p)$: probability that team B wins\n",
    "\n",
    "Suppose A and B play a series until one wins $n$ games.\n",
    "\n",
    "Denote $P(i,j)$ as the probability that A wins the series when:\n",
    "  A needs to win $i$ more games\n",
    "  B needs to win $j$ more games\n",
    "  \n",
    "**Question**: What's the probability that team A wins a best-of-seven series?"
   ]
  },
  {
   "cell_type": "markdown",
   "metadata": {},
   "source": [
    "**Answer**:$P(4,4)$"
   ]
  },
  {
   "cell_type": "markdown",
   "metadata": {},
   "source": [
    "Let's solve this problem recursively!\n",
    "\n",
    "**Question**: What's the probability that A wins the series when B needs 0 more games to win?$P(i,0)=0$\n",
    "\n",
    "**Question**: What's the probability that A wins the series when A needs 0 more games to win?$P(0,j)=1.$\n",
    "\n",
    "**Question**: What's the probability that A wins the series when both teams need to win one more game? $P(1,1)=p$\n",
    "\n",
    "**Question**: What's the probability that A wins the series when A needs $i$ more wins and B needs $j$ more wins? $P(i,j) = p \\times P(i-1,j) + q \\times P(i,j-1)$ \n",
    "\n"
   ]
  },
  {
   "cell_type": "code",
   "execution_count": 1,
   "metadata": {
    "collapsed": false
   },
   "outputs": [],
   "source": [
    "import numpy as np\n",
    "\n",
    "def worldseriesodds(n, awins):\n",
    "    bwins = 1. - awins\n",
    "    # allocate matrix\n",
    "    p = np.zeros((n+1,n+1))\n",
    "    # initialize\n",
    "    for i in xrange(n+1):\n",
    "        p[i,0] = 0.\n",
    "    for j in xrange(n+1):\n",
    "        p[0,j] = 1.\n",
    "    # do recursive computation\n",
    "    for i in xrange(1,n+1):\n",
    "        for j in xrange(1, n+1):\n",
    "            p[i,j] = awins * p[i-1,j] + bwins * p[i,j-1]\n",
    "    # return answer\n",
    "    return p[n,n]\n",
    "    "
   ]
  },
  {
   "cell_type": "code",
   "execution_count": 2,
   "metadata": {
    "collapsed": false
   },
   "outputs": [
    {
     "name": "stdout",
     "output_type": "stream",
     "text": [
      "0.966656\n"
     ]
    }
   ],
   "source": [
    "print worldseriesodds(4, .8)"
   ]
  },
  {
   "cell_type": "code",
   "execution_count": 3,
   "metadata": {
    "collapsed": false
   },
   "outputs": [
    {
     "name": "stdout",
     "output_type": "stream",
     "text": [
      "0.896\n"
     ]
    }
   ],
   "source": [
    "print worldseriesodds(2, .8)"
   ]
  },
  {
   "cell_type": "code",
   "execution_count": 18,
   "metadata": {
    "collapsed": false
   },
   "outputs": [],
   "source": [
    "set_probs = np.linspace(0.5,1,num=50)\n",
    "seven_game_probs = [worldseriesodds(3, p) for p in set_probs]\n",
    "five_game_probs = [worldseriesodds(2,p) for p in set_probs]"
   ]
  },
  {
   "cell_type": "code",
   "execution_count": 8,
   "metadata": {
    "collapsed": false
   },
   "outputs": [
    {
     "name": "stdout",
     "output_type": "stream",
     "text": [
      "Populating the interactive namespace from numpy and matplotlib\n"
     ]
    }
   ],
   "source": [
    "%pylab inline"
   ]
  },
  {
   "cell_type": "code",
   "execution_count": 35,
   "metadata": {
    "collapsed": false
   },
   "outputs": [
    {
     "data": {
      "text/plain": [
       "<matplotlib.text.Text at 0x1117cdf50>"
      ]
     },
     "execution_count": 35,
     "metadata": {},
     "output_type": "execute_result"
    },
    {
     "data": {
      "image/png": "[encoded data removed]",
      "text/plain": [
       "<matplotlib.figure.Figure at 0x111d2f5d0>"
      ]
     },
     "metadata": {},
     "output_type": "display_data"
    }
   ],
   "source": [
    "fig, ax = subplots()\n",
    "ax.plot(set_probs,seven_game_probs, 'r', label=\"7 games\")\n",
    "ax.plot(set_probs, five_game_probs, 'b', label=\"5 games\")\n",
    "ax.set_xlabel(\"Prob. winning set\")\n",
    "ax.set_xlim(0.5,1.)\n",
    "ax.set_ylabel(\"Prob. winning game\")\n",
    "ax.set_ylim(0.5,1.)\n",
    "ax.legend(loc=\"best\")\n",
    "fig.suptitle(\"Win Probability Plot\")"
   ]
  }
 ],
 "metadata": {
  "kernelspec": {
   "display_name": "Python 2",
   "language": "python",
   "name": "python2"
  },
  "language_info": {
   "codemirror_mode": {
    "name": "ipython",
    "version": 2
   },
   "file_extension": ".py",
   "mimetype": "text/x-python",
   "name": "python",
   "nbconvert_exporter": "python",
   "pygments_lexer": "ipython2",
   "version": "2.7.8"
  }
 },
 "nbformat": 4,
 "nbformat_minor": 0
}
