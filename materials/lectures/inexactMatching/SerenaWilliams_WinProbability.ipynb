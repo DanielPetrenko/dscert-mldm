{
 "cells": [
  {
   "cell_type": "markdown",
   "metadata": {},
   "source": [
    "## Serena Williams Win Probability\n",
    "\n",
    "![Serena Williams](https://espnfivethirtyeight.files.wordpress.com/2015/09/serena0907-1.jpg?quality=100&strip=all&w=360)\n",
    "\n",
    "Could Serena Williams be a *more* dominant player if she played best-out-of-five-sets instead of best-out-of-three?\n",
    "\n",
    "[Five-thirty-eight thinks so](http://fivethirtyeight.com/datalab/serena-williams-grand-slam-us-open-best-of-five-sets/)\n",
    "\n",
    "How can we use dynamic programming to address this question?\n",
    "\n",
    "- $p$: probability that player A wins a set over player B  \n",
    "- $q=(1-p)$: probability that player B wins a set\n",
    "\n",
    "Suppose A and B play a game until one player wins $n$ sets.\n",
    "\n",
    "Denote $P(i,j)$ as the probability that A wins the game when:\n",
    "- A needs to win $i$ more sets, and\n",
    "- B needs to win $j$ more sets\n",
    "  \n",
    "**Question**: Using this notation, what's the probability that player A wins a best-out-of-five-sets game?"
   ]
  },
  {
   "cell_type": "code",
   "execution_count": null,
   "metadata": {
    "collapsed": true
   },
   "outputs": [],
   "source": []
  },
  {
   "cell_type": "markdown",
   "metadata": {},
   "source": [
    "**Answer**:"
   ]
  },
  {
   "cell_type": "markdown",
   "metadata": {},
   "source": [
    "Let's solve this problem recursively!\n",
    "\n",
    "**Question**: What's the probability that A wins the game when B needs 0 more sets to win?\n",
    "\n",
    "**Question**: What's the probability that A wins the game when A needs 0 more sets to win?\n",
    "\n",
    "**Question**: What's the probability that A wins the game when both players need to win one more set? \n",
    "\n",
    "**Question**: What's the probability that A wins the game when A needs $i$ more sets and B needs $j$ more sets? \n",
    "\n"
   ]
  },
  {
   "cell_type": "code",
   "execution_count": 1,
   "metadata": {
    "collapsed": false
   },
   "outputs": [],
   "source": [
    "import numpy as np\n",
    "\n",
    "# compute probability of winning a tennis game\n",
    "# from single set probability\n",
    "def tennis_probability(num_sets_to_win, prob_a_wins_set):\n",
    "    dp_table = np.zeros((num_sets_to_win+1,num_sets_to_win+1))\n",
    "    dp_table[0,1:] = 1.\n",
    "    \n",
    "    for i in xrange(1, num_sets_to_win+1):\n",
    "        for j in xrange(1, num_sets_to_win+1):\n",
    "            dp_table[i,j] = prob_a_wins_set * dp_table[i-1,j] + (1-prob_a_wins_set) * dp_table[i,j-1]\n",
    "    return dp_table[num_sets_to_win, num_sets_to_win]"
   ]
  },
  {
   "cell_type": "markdown",
   "metadata": {},
   "source": [
    "If player has probability .8 of winning a set, what is the probability that she wins a best-out-of-five game?"
   ]
  },
  {
   "cell_type": "code",
   "execution_count": 2,
   "metadata": {
    "collapsed": false
   },
   "outputs": [
    {
     "data": {
      "text/plain": [
       "0.94208000000000014"
      ]
     },
     "execution_count": 2,
     "metadata": {},
     "output_type": "execute_result"
    }
   ],
   "source": [
    "tennis_probability(3, .8)"
   ]
  },
  {
   "cell_type": "markdown",
   "metadata": {},
   "source": [
    "If player has probability .8 of winning a set, what is the probability that she wins a best-out-of-three game?"
   ]
  },
  {
   "cell_type": "code",
   "execution_count": 3,
   "metadata": {
    "collapsed": false
   },
   "outputs": [
    {
     "data": {
      "text/plain": [
       "0.89600000000000002"
      ]
     },
     "execution_count": 3,
     "metadata": {},
     "output_type": "execute_result"
    }
   ],
   "source": [
    "tennis_probability(2, .8)"
   ]
  },
  {
   "cell_type": "markdown",
   "metadata": {},
   "source": [
    "Let's make a plot to compare these as a function of probability of winning a set"
   ]
  },
  {
   "cell_type": "code",
   "execution_count": 4,
   "metadata": {
    "collapsed": false
   },
   "outputs": [
    {
     "name": "stdout",
     "output_type": "stream",
     "text": [
      "Populating the interactive namespace from numpy and matplotlib\n"
     ]
    }
   ],
   "source": [
    "%pylab inline"
   ]
  },
  {
   "cell_type": "code",
   "execution_count": 5,
   "metadata": {
    "collapsed": true
   },
   "outputs": [],
   "source": [
    "set_probabilities = np.linspace(.5, 1, num=50)\n",
    "best_out_of_five = [tennis_probability(3, p) for p in set_probabilities]\n",
    "best_out_of_three = [tennis_probability(2, p) for p in set_probabilities]"
   ]
  },
  {
   "cell_type": "code",
   "execution_count": 6,
   "metadata": {
    "collapsed": false
   },
   "outputs": [
    {
     "data": {
      "text/plain": [
       "<matplotlib.legend.Legend at 0x103c83950>"
      ]
     },
     "execution_count": 6,
     "metadata": {},
     "output_type": "execute_result"
    },
    {
     "data": {
      "image/png": "[encoded data removed]",
      "text/plain": [
       "<matplotlib.figure.Figure at 0x105346350>"
      ]
     },
     "metadata": {},
     "output_type": "display_data"
    }
   ],
   "source": [
    "fig, axs = subplots()\n",
    "axs.plot(set_probabilities, best_out_of_five, 'r', label=\"best of 5\")\n",
    "axs.plot(set_probabilities, best_out_of_three, 'b', label=\"best of 3\")\n",
    "\n",
    "axs.set_xlabel(\"Prob. of winning set\")\n",
    "axs.set_xlim(0.5,1)\n",
    "\n",
    "axs.set_ylabel(\"Prob. of winning game\")\n",
    "axs.set_ylim(0.5,1)\n",
    "\n",
    "axs.legend(loc=\"best\")"
   ]
  },
  {
   "cell_type": "code",
   "execution_count": null,
   "metadata": {
    "collapsed": true
   },
   "outputs": [],
   "source": []
  }
 ],
 "metadata": {
  "kernelspec": {
   "display_name": "Python 2",
   "language": "python",
   "name": "python2"
  },
  "language_info": {
   "codemirror_mode": {
    "name": "ipython",
    "version": 2
   },
   "file_extension": ".py",
   "mimetype": "text/x-python",
   "name": "python",
   "nbconvert_exporter": "python",
   "pygments_lexer": "ipython2",
   "version": "2.7.8"
  }
 },
 "nbformat": 4,
 "nbformat_minor": 0
}
