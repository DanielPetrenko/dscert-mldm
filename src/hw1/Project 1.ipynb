{
 "cells": [
  {
   "cell_type": "code",
   "execution_count": 1,
   "metadata": {
    "collapsed": true
   },
   "outputs": [],
   "source": [
    "%matplotlib inline"
   ]
  },
  {
   "cell_type": "code",
   "execution_count": 2,
   "metadata": {
    "collapsed": true
   },
   "outputs": [],
   "source": [
    "import matplotlib.pyplot as plt"
   ]
  },
  {
   "cell_type": "markdown",
   "metadata": {},
   "source": [
    "### Download the Campy genome\n",
    "\n",
    "Here we use Biopython to download the campy genome and save as file campy.fa"
   ]
  },
  {
   "cell_type": "code",
   "execution_count": 3,
   "metadata": {
    "collapsed": true
   },
   "outputs": [],
   "source": [
    "from Bio import Entrez, SeqIO"
   ]
  },
  {
   "cell_type": "code",
   "execution_count": null,
   "metadata": {
    "collapsed": false
   },
   "outputs": [],
   "source": [
    "Entrez.email = \"hcorrada@gmail.com\"\n",
    "handle = Entrez.efetch(db=\"nucleotide\", id=\"AL111168.1\", rettype=\"gb\", retmode=\"text\")\n",
    "record = SeqIO.read(handle, \"genbank\")\n",
    "handle.close()\n",
    "\n",
    "SeqIO.write(record, \"campy.fa\", \"fasta\")"
   ]
  },
  {
   "cell_type": "markdown",
   "metadata": {},
   "source": [
    "### Calculate skew for campylobacter\n",
    "\n",
    "This function computes skew"
   ]
  },
  {
   "cell_type": "code",
   "execution_count": 4,
   "metadata": {
    "collapsed": true
   },
   "outputs": [],
   "source": [
    "def get_skew_vec(genome):\n",
    "    res = [0]\n",
    "    skew = 0\n",
    "    for i in xrange(len(genome)):\n",
    "        c = genome[i]\n",
    "\n",
    "        if c == 'C':\n",
    "            skew = skew - 1\n",
    "        elif c == 'G':\n",
    "            skew = skew + 1\n",
    "        res.append(skew)\n",
    "    return res"
   ]
  },
  {
   "cell_type": "markdown",
   "metadata": {},
   "source": [
    "Now compute the skew for campy and plot it."
   ]
  },
  {
   "cell_type": "code",
   "execution_count": 5,
   "metadata": {
    "collapsed": false
   },
   "outputs": [
    {
     "data": {
      "text/plain": [
       "[<matplotlib.lines.Line2D at 0x105251610>]"
      ]
     },
     "execution_count": 5,
     "metadata": {},
     "output_type": "execute_result"
    },
    {
     "data": {
      "image/png": "[encoded data removed]",
      "text/plain": [
       "<matplotlib.figure.Figure at 0x1051675d0>"
      ]
     },
     "metadata": {},
     "output_type": "display_data"
    }
   ],
   "source": [
    "record = SeqIO.read(\"campy.fa\", \"fasta\")\n",
    "skew_vec = get_skew_vec(record)\n",
    "plt.plot(skew_vec)"
   ]
  },
  {
   "cell_type": "markdown",
   "metadata": {},
   "source": [
    "It looks like the minimum skew is at the end of the file, which suggests that oriC is around the beginning of the file. So let's take the last 250bp followed by the first 250bp as the candidate oriC region."
   ]
  },
  {
   "cell_type": "code",
   "execution_count": 6,
   "metadata": {
    "collapsed": false
   },
   "outputs": [
    {
     "data": {
      "text/plain": [
       "500"
      ]
     },
     "execution_count": 6,
     "metadata": {},
     "output_type": "execute_result"
    }
   ],
   "source": [
    "candidate_region = record[-250:] + record[:250]\n",
    "len(candidate_region)"
   ]
  },
  {
   "cell_type": "markdown",
   "metadata": {
    "collapsed": true
   },
   "source": [
    "### Find frequent words\n",
    "\n",
    "This code finds frequent words with mismatches and reverse complement"
   ]
  },
  {
   "cell_type": "code",
   "execution_count": 7,
   "metadata": {
    "collapsed": true
   },
   "outputs": [],
   "source": [
    "from collections import defaultdict\n",
    "\n",
    "# use this hash table to get complementary nucleotides\n",
    "complement = dict(A=\"T\", C=\"G\", G=\"C\", T=\"A\")\n",
    "\n",
    "# compute the reverse complement of a given string\n",
    "# input:\n",
    "#  text: a string\n",
    "# output:\n",
    "#  the reverse complement of text\n",
    "def revcomp(text):\n",
    "    # turn the string into a list\n",
    "    out = list(text)\n",
    "\n",
    "    # reverse the list (in place)\n",
    "    out.reverse()\n",
    "\n",
    "    # get complement at each position of list\n",
    "    for i in xrange(len(out)):\n",
    "        out[i] = complement[out[i]]\n",
    "\n",
    "    # turn back into string and return\n",
    "    return ''.join(out)\n",
    "\n",
    "# generate the d neighborhood of a DNA string\n",
    "nucleotides = list('ACGT')\n",
    "\n",
    "def get_neighbors(pattern, d):\n",
    "    if d == 0:\n",
    "        return [(pattern,0)]\n",
    "    if len(pattern) == 1:\n",
    "        return [(nuc, 1 if nuc != pattern else 0) for nuc in nucleotides]\n",
    "\n",
    "    neighborhood = set()\n",
    "    suffix_neighbors = get_neighbors(pattern[1:], d)\n",
    "    for (text, cur_d) in suffix_neighbors:\n",
    "        if cur_d < d:\n",
    "            for nuc in nucleotides:\n",
    "                distance = cur_d + 1 if nuc != pattern[0] else cur_d\n",
    "                neighborhood.add((nuc + text, distance))\n",
    "        else:\n",
    "            neighborhood.add((pattern[0] + text, d))\n",
    "    return neighborhood\n",
    "\n",
    "# compute most frequent words allowing d mismatches, including reverse complements\n",
    "# input:\n",
    "#   text: input string\n",
    "#   k: k-mer length\n",
    "#   d: maximum number of mismatches\n",
    "def freq_words_mismatch_revcomp(text, k, d):\n",
    "    kmer_counts = defaultdict(int)\n",
    "\n",
    "    n = len(text)\n",
    "    for i in xrange(n-k+1):\n",
    "        kmer = text[slice(i,i+k)]\n",
    "        neighbors = get_neighbors(kmer, d)\n",
    "        for neighbor, _ in neighbors:\n",
    "            kmer_counts[neighbor] += 1\n",
    "        kmer = revcomp(kmer)\n",
    "        neighbors = get_neighbors(kmer, d)\n",
    "        for neighbor, _ in neighbors:\n",
    "            kmer_counts[neighbor] += 1\n",
    "\n",
    "    max_count = 0\n",
    "    frequent_words = list()\n",
    "    for kmer, count in kmer_counts.items():\n",
    "        if count == max_count:\n",
    "            frequent_words.append(kmer)\n",
    "        if count > max_count:\n",
    "            frequent_words = [kmer]\n",
    "            max_count = count\n",
    "    return frequent_words, max_count"
   ]
  },
  {
   "cell_type": "markdown",
   "metadata": {},
   "source": [
    "Ok, now run this code for k=3,4,5,6,7,8 and 9, counting the number of frequent words and their number of occurences"
   ]
  },
  {
   "cell_type": "code",
   "execution_count": 8,
   "metadata": {
    "collapsed": false
   },
   "outputs": [
    {
     "name": "stdout",
     "output_type": "stream",
     "text": [
      "running k= 3\n",
      "running k= 4\n",
      "running k= 5\n",
      "running k= 6\n",
      "running k= 7\n",
      "running k= 8\n",
      "running k= 9\n"
     ]
    }
   ],
   "source": [
    "kvec = range(3,10)\n",
    "res = list()\n",
    "for k in kvec:\n",
    "    print \"running k=\", k\n",
    "    freq_words, count = freq_words_mismatch_revcomp(candidate_region, k, 2)\n",
    "    res.append((k, len(freq_words), count))"
   ]
  },
  {
   "cell_type": "markdown",
   "metadata": {},
   "source": [
    "Let's make a pretty table to include in our report"
   ]
  },
  {
   "cell_type": "code",
   "execution_count": 9,
   "metadata": {
    "collapsed": false
   },
   "outputs": [
    {
     "data": {
      "text/html": [
       "<table><th>k</th><th>num kmers</th><th>num occurrences</th><tr><td>3</td><td>1</td><td>704</td></tr><tr><td>4</td><td>1</td><td>389</td></tr><tr><td>5</td><td>1</td><td>247</td></tr><tr><td>6</td><td>1</td><td>146</td></tr><tr><td>7</td><td>1</td><td>79</td></tr><tr><td>8</td><td>1</td><td>47</td></tr><tr><td>9</td><td>1</td><td>29</td></tr></table>"
      ],
      "text/plain": [
       "[(3, 1, 704),\n",
       " (4, 1, 389),\n",
       " (5, 1, 247),\n",
       " (6, 1, 146),\n",
       " (7, 1, 79),\n",
       " (8, 1, 47),\n",
       " (9, 1, 29)]"
      ]
     },
     "execution_count": 9,
     "metadata": {},
     "output_type": "execute_result"
    }
   ],
   "source": [
    "# based on http://calebmadrigal.com/display-list-as-table-in-ipython-notebook/\n",
    "class ResTable(list):\n",
    "    def _repr_html_(self):\n",
    "        html = [\"<table>\"]\n",
    "        html.append(\"<th>k</th><th>num kmers</th><th>num occurrences</th>\")\n",
    "        for row in self:\n",
    "            html.append(\"<tr>\")\n",
    "            for col in row:\n",
    "                html.append(\"<td>{0}</td>\".format(col))\n",
    "            html.append(\"</tr>\")\n",
    "        html.append(\"</table>\")\n",
    "        return ''.join(html)\n",
    "ResTable(res)"
   ]
  },
  {
   "cell_type": "markdown",
   "metadata": {},
   "source": [
    "Looks like there is a single kmer that occurs most frequently. Let's see that kmer for k=7,8,9."
   ]
  },
  {
   "cell_type": "code",
   "execution_count": 10,
   "metadata": {
    "collapsed": false
   },
   "outputs": [
    {
     "name": "stdout",
     "output_type": "stream",
     "text": [
      "k=7 ['TTTTTTT']\n",
      "k=8 ['TTTTTTTT']\n",
      "k=9 ['TTTTTTTTT']\n"
     ]
    }
   ],
   "source": [
    "words_7, _ = freq_words_mismatch_revcomp(candidate_region, 7, 2)\n",
    "words_8, _ = freq_words_mismatch_revcomp(candidate_region, 8, 2)\n",
    "words_9, _ = freq_words_mismatch_revcomp(candidate_region, 9, 2)\n",
    "print \"k=7\", words_7\n",
    "print \"k=8\", words_8\n",
    "print \"k=9\", words_9"
   ]
  },
  {
   "cell_type": "markdown",
   "metadata": {},
   "source": [
    "Well, that's not very interesting. At this point, I would run with bigger k."
   ]
  },
  {
   "cell_type": "code",
   "execution_count": 11,
   "metadata": {
    "collapsed": false
   },
   "outputs": [
    {
     "data": {
      "text/plain": [
       "[<matplotlib.lines.Line2D at 0x10a939d50>]"
      ]
     },
     "execution_count": 11,
     "metadata": {},
     "output_type": "execute_result"
    },
    {
     "data": {
      "image/png": "[encoded data removed]",
      "text/plain": [
       "<matplotlib.figure.Figure at 0x101dbbe50>"
      ]
     },
     "metadata": {},
     "output_type": "display_data"
    }
   ],
   "source": [
    "n = len(record)\n",
    "rotated_seq = record[-n/2:] + record[:n/2]\n",
    "rotated_skew = get_skew_vec(rotated_seq)\n",
    "plt.plot(rotated_skew)"
   ]
  },
  {
   "cell_type": "code",
   "execution_count": 12,
   "metadata": {
    "collapsed": false
   },
   "outputs": [
    {
     "name": "stdout",
     "output_type": "stream",
     "text": [
      "ID: AL111168.1\n",
      "Name: AL111168.1\n",
      "Description: AL111168.1 Campylobacter jejuni subsp. jejuni NCTC 11168 complete genome.\n",
      "Number of features: 0\n",
      "Seq('AAATTCAAGAAGAATTTTTCTTTATATTTAATGAAATCAAAAATAACGATGGAC...TTT', SingleLetterAlphabet())\n"
     ]
    }
   ],
   "source": [
    "pos = sorted(range(len(rotated_skew)), key=lambda i: rotated_skew[i])[0]\n",
    "print rotated_seq[pos-250:pos+251]"
   ]
  },
  {
   "cell_type": "code",
   "execution_count": 13,
   "metadata": {
    "collapsed": false
   },
   "outputs": [
    {
     "name": "stdout",
     "output_type": "stream",
     "text": [
      "running k= 3\n",
      "running k= 4\n",
      "running k= 5\n",
      "running k= 6\n",
      "running k= 7\n",
      "running k= 8\n",
      "running k= 9\n"
     ]
    }
   ],
   "source": [
    "rotated_candidate_region = rotated_seq[slice(pos-250,pos+250)]\n",
    "\n",
    "kvec = range(3,10)\n",
    "rotated_res = list()\n",
    "for k in kvec:\n",
    "    print \"running k=\", k\n",
    "    freq_words, count = freq_words_mismatch_revcomp(rotated_candidate_region, k, 2)\n",
    "    rotated_res.append((k, len(freq_words), count))"
   ]
  },
  {
   "cell_type": "code",
   "execution_count": 14,
   "metadata": {
    "collapsed": false
   },
   "outputs": [
    {
     "data": {
      "text/html": [
       "<table><th>k</th><th>num kmers</th><th>num occurrences</th><tr><td>3</td><td>1</td><td>682</td></tr><tr><td>4</td><td>1</td><td>377</td></tr><tr><td>5</td><td>1</td><td>206</td></tr><tr><td>6</td><td>1</td><td>120</td></tr><tr><td>7</td><td>1</td><td>69</td></tr><tr><td>8</td><td>1</td><td>44</td></tr><tr><td>9</td><td>1</td><td>31</td></tr></table>"
      ],
      "text/plain": [
       "[(3, 1, 682),\n",
       " (4, 1, 377),\n",
       " (5, 1, 206),\n",
       " (6, 1, 120),\n",
       " (7, 1, 69),\n",
       " (8, 1, 44),\n",
       " (9, 1, 31)]"
      ]
     },
     "execution_count": 14,
     "metadata": {},
     "output_type": "execute_result"
    }
   ],
   "source": [
    "ResTable(rotated_res)"
   ]
  },
  {
   "cell_type": "code",
   "execution_count": 15,
   "metadata": {
    "collapsed": false
   },
   "outputs": [
    {
     "name": "stdout",
     "output_type": "stream",
     "text": [
      "k=7 ['TTTTTTT']\n",
      "k=8 ['TTTTTTTT']\n",
      "k=9 ['TTTTTTTTT']\n"
     ]
    }
   ],
   "source": [
    "words_7, _ = freq_words_mismatch_revcomp(rotated_candidate_region, 7, 2)\n",
    "words_8, _ = freq_words_mismatch_revcomp(rotated_candidate_region, 8, 2)\n",
    "words_9, _ = freq_words_mismatch_revcomp(rotated_candidate_region, 9, 2)\n",
    "print \"k=7\", words_7\n",
    "print \"k=8\", words_8\n",
    "print \"k=9\", words_9"
   ]
  },
  {
   "cell_type": "code",
   "execution_count": 16,
   "metadata": {
    "collapsed": true
   },
   "outputs": [],
   "source": [
    "# compute most frequent words allowing d mismatches, including reverse complements\n",
    "# ignore kmers that have more than half of the string be homopolymer\n",
    "#\n",
    "# input:\n",
    "#   text: input string\n",
    "#   k: k-mer length\n",
    "#   d: maximum number of mismatches\n",
    "def is_homopolymer(kmer, factor):\n",
    "    k = len(kmer)\n",
    "    longest_homopolymer = -1\n",
    "    cur_homopolymer = 0\n",
    "    last_c = '$'\n",
    "    for nuc in kmer:\n",
    "        if nuc == last_c:\n",
    "            cur_homopolymer += 1\n",
    "        else:\n",
    "            if cur_homopolymer > longest_homopolymer:\n",
    "                longest_homopolymer = cur_homopolymer\n",
    "            cur_homopolymer = 1\n",
    "            last_c = nuc\n",
    "    if cur_homopolymer > longest_homopolymer:\n",
    "        longest_homopolymer = cur_homopolymer\n",
    "    return longest_homopolymer >= factor\n",
    "\n",
    "def freq_words_mismatch_revcomp_no_homopolymers(text, k, d, factor):\n",
    "    kmer_counts = defaultdict(int)\n",
    "\n",
    "    n = len(text)\n",
    "    for i in xrange(n-k+1):\n",
    "        kmer = text[slice(i,i+k)]\n",
    "        neighbors = get_neighbors(kmer, d)\n",
    "        for neighbor, _ in neighbors:\n",
    "            if not is_homopolymer(neighbor, factor):\n",
    "                kmer_counts[neighbor] += 1\n",
    "        kmer = revcomp(kmer)\n",
    "        neighbors = get_neighbors(kmer, d)\n",
    "        for neighbor, _ in neighbors:\n",
    "            if not is_homopolymer(neighbor, factor):\n",
    "                kmer_counts[neighbor] += 1\n",
    "\n",
    "    max_count = 0\n",
    "    frequent_words = list()\n",
    "    for kmer, count in kmer_counts.items():\n",
    "        if count == max_count:\n",
    "            frequent_words.append(kmer)\n",
    "        if count > max_count:\n",
    "            frequent_words = [kmer]\n",
    "            max_count = count\n",
    "    return frequent_words, max_count"
   ]
  },
  {
   "cell_type": "code",
   "execution_count": 19,
   "metadata": {
    "collapsed": false
   },
   "outputs": [
    {
     "data": {
      "text/plain": [
       "True"
      ]
     },
     "execution_count": 19,
     "metadata": {},
     "output_type": "execute_result"
    }
   ],
   "source": [
    "is_homopolymer(\"TTTTT\", 5)"
   ]
  },
  {
   "cell_type": "code",
   "execution_count": 23,
   "metadata": {
    "collapsed": false
   },
   "outputs": [
    {
     "name": "stdout",
     "output_type": "stream",
     "text": [
      "running k= 3\n",
      "running k= 4\n",
      "running k= 5\n",
      "running k= 6\n",
      "running k= 7\n",
      "running k= 8\n",
      "running k= 9\n"
     ]
    }
   ],
   "source": [
    "kvec = range(3,10)\n",
    "rotated_no_homopolymer_res = list()\n",
    "for k in kvec:\n",
    "    print \"running k=\", k\n",
    "    freq_words, count = freq_words_mismatch_revcomp_no_homopolymers(rotated_candidate_region, k, 2, 4)\n",
    "    rotated_no_homopolymer_res.append((k, len(freq_words), count))"
   ]
  },
  {
   "cell_type": "code",
   "execution_count": 24,
   "metadata": {
    "collapsed": false
   },
   "outputs": [
    {
     "data": {
      "text/html": [
       "<table><th>k</th><th>num kmers</th><th>num occurrences</th><tr><td>3</td><td>1</td><td>682</td></tr><tr><td>4</td><td>1</td><td>377</td></tr><tr><td>5</td><td>1</td><td>198</td></tr><tr><td>6</td><td>1</td><td>106</td></tr><tr><td>7</td><td>1</td><td>60</td></tr><tr><td>8</td><td>1</td><td>27</td></tr><tr><td>9</td><td>1</td><td>16</td></tr></table>"
      ],
      "text/plain": [
       "[(3, 1, 682),\n",
       " (4, 1, 377),\n",
       " (5, 1, 198),\n",
       " (6, 1, 106),\n",
       " (7, 1, 60),\n",
       " (8, 1, 27),\n",
       " (9, 1, 16)]"
      ]
     },
     "execution_count": 24,
     "metadata": {},
     "output_type": "execute_result"
    }
   ],
   "source": [
    "ResTable(rotated_no_homopolymer_res)"
   ]
  },
  {
   "cell_type": "code",
   "execution_count": 25,
   "metadata": {
    "collapsed": false
   },
   "outputs": [
    {
     "name": "stdout",
     "output_type": "stream",
     "text": [
      "k=9 ['TGATATCAT']\n"
     ]
    }
   ],
   "source": [
    "words_9, _ = freq_words_mismatch_revcomp_no_homopolymers(rotated_candidate_region, 9, 2, 4)\n",
    "print \"k=9\", words_9"
   ]
  },
  {
   "cell_type": "code",
   "execution_count": 33,
   "metadata": {
    "collapsed": true
   },
   "outputs": [],
   "source": [
    "import heapq\n",
    "\n",
    "def topn_words_mismatch_revcomp_no_homopolymers(text, k, d, factor, nslots):\n",
    "    kmer_counts = defaultdict(int)\n",
    "\n",
    "    n = len(text)\n",
    "    for i in xrange(n-k+1):\n",
    "        kmer = text[slice(i,i+k)]\n",
    "        neighbors = get_neighbors(kmer, d)\n",
    "        for neighbor, _ in neighbors:\n",
    "            if not is_homopolymer(neighbor, factor):\n",
    "                kmer_counts[neighbor] += 1\n",
    "        kmer = revcomp(kmer)\n",
    "        neighbors = get_neighbors(kmer, d)\n",
    "        for neighbor, _ in neighbors:\n",
    "            if not is_homopolymer(neighbor, factor):\n",
    "                kmer_counts[neighbor] += 1\n",
    "\n",
    "    heap = list()\n",
    "    for kmer, count in kmer_counts.items():\n",
    "        heapq.heappush(heap, (-count, kmer))\n",
    "        \n",
    "    res = list()\n",
    "    slots_used = 0\n",
    "    cur_entry = (0, [])\n",
    "    while slots_used <= nslots:\n",
    "        count, kmer = heapq.heappop(heap)\n",
    "        if count != cur_entry[0]:\n",
    "            res.append(cur_entry)\n",
    "            cur_entry = (count, [kmer])\n",
    "            slots_used += 1\n",
    "        else:\n",
    "            cur_entry[1].append(kmer)\n",
    "            \n",
    "    return res[1:]"
   ]
  },
  {
   "cell_type": "code",
   "execution_count": 35,
   "metadata": {
    "collapsed": false
   },
   "outputs": [
    {
     "name": "stdout",
     "output_type": "stream",
     "text": [
      "k=9 [(-16, ['TGATATCAT']), (-14, ['ATTTCTTTA', 'TATTTCTTT', 'TCTTTAATT', 'TTATATCTT']), (-13, ['ATGATATCT', 'GATATCATC', 'TGATTTCTT', 'TGTTATCTT', 'TTATATTAT'])]\n"
     ]
    }
   ],
   "source": [
    "words_9 = topn_words_mismatch_revcomp_no_homopolymers(rotated_candidate_region, 9, 2, 4, 3)\n",
    "print \"k=9\", words_9"
   ]
  },
  {
   "cell_type": "code",
   "execution_count": 41,
   "metadata": {
    "collapsed": false
   },
   "outputs": [
    {
     "name": "stdout",
     "output_type": "stream",
     "text": [
      "None\n"
     ]
    }
   ],
   "source": [
    "import re\n",
    "dnabox = re.compile(\"TTATC[CA]A[CA]A\")\n",
    "m = dnabox.match(str(record.seq))\n",
    "print m\n"
   ]
  },
  {
   "cell_type": "code",
   "execution_count": 38,
   "metadata": {
    "collapsed": false
   },
   "outputs": [
    {
     "data": {
      "text/plain": [
       "Seq('AAATTCAAGAAGAATTTTTCTTTATATTTAATGAAATCAAAAATAACGATGGAC...ATT', SingleLetterAlphabet())"
      ]
     },
     "execution_count": 38,
     "metadata": {},
     "output_type": "execute_result"
    }
   ],
   "source": [
    "rotated_candidate_region.seq"
   ]
  },
  {
   "cell_type": "code",
   "execution_count": null,
   "metadata": {
    "collapsed": true
   },
   "outputs": [],
   "source": []
  }
 ],
 "metadata": {
  "kernelspec": {
   "display_name": "Python 2",
   "language": "python",
   "name": "python2"
  },
  "language_info": {
   "codemirror_mode": {
    "name": "ipython",
    "version": 2
   },
   "file_extension": ".py",
   "mimetype": "text/x-python",
   "name": "python",
   "nbconvert_exporter": "python",
   "pygments_lexer": "ipython2",
   "version": "2.7.8"
  }
 },
 "nbformat": 4,
 "nbformat_minor": 0
}
